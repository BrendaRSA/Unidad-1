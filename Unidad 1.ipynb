{
 "cells": [
  {
   "cell_type": "markdown",
   "id": "0d9d3a5a",
   "metadata": {},
   "source": [
    "# Unidad 1\n",
    "## Conceptos Generales de Python "
   ]
  },
  {
   "cell_type": "code",
   "execution_count": 1,
   "id": "16e593f9",
   "metadata": {},
   "outputs": [],
   "source": [
    "#24/08/2022\n",
    "i = 15\n",
    "x = \"Hola Mundo\""
   ]
  },
  {
   "cell_type": "code",
   "execution_count": 2,
   "id": "3384b3f6",
   "metadata": {},
   "outputs": [
    {
     "name": "stdout",
     "output_type": "stream",
     "text": [
      "15\n"
     ]
    }
   ],
   "source": [
    "print(i)"
   ]
  },
  {
   "cell_type": "code",
   "execution_count": 3,
   "id": "9bf0dc39",
   "metadata": {},
   "outputs": [
    {
     "name": "stdout",
     "output_type": "stream",
     "text": [
      "Hola Mundo\n"
     ]
    }
   ],
   "source": [
    "print(x)"
   ]
  },
  {
   "cell_type": "code",
   "execution_count": 4,
   "id": "806fa486",
   "metadata": {},
   "outputs": [
    {
     "name": "stdout",
     "output_type": "stream",
     "text": [
      "x\n"
     ]
    }
   ],
   "source": [
    "print(\"x\")"
   ]
  },
  {
   "cell_type": "code",
   "execution_count": 5,
   "id": "8eb1cd5b",
   "metadata": {},
   "outputs": [
    {
     "name": "stdout",
     "output_type": "stream",
     "text": [
      "15 Hola Mundo\n"
     ]
    }
   ],
   "source": [
    "print(i, x)"
   ]
  },
  {
   "cell_type": "code",
   "execution_count": 7,
   "id": "60b8a46c",
   "metadata": {},
   "outputs": [
    {
     "name": "stdout",
     "output_type": "stream",
     "text": [
      "x=/Hola Mundo/i=/15\n"
     ]
    }
   ],
   "source": [
    "print(\"x=\", x, \"i=\", i, sep=\"/\")"
   ]
  },
  {
   "cell_type": "code",
   "execution_count": 9,
   "id": "17e1f4b8",
   "metadata": {},
   "outputs": [
    {
     "ename": "SyntaxError",
     "evalue": "cannot assign to operator (507172243.py, line 2)",
     "output_type": "error",
     "traceback": [
      "\u001b[1;36m  Input \u001b[1;32mIn [9]\u001b[1;36m\u001b[0m\n\u001b[1;33m    mi-variable = 5\u001b[0m\n\u001b[1;37m    ^\u001b[0m\n\u001b[1;31mSyntaxError\u001b[0m\u001b[1;31m:\u001b[0m cannot assign to operator\n"
     ]
    }
   ],
   "source": [
    "# En la declaracion de variables no se puede usar el guion \n",
    "# en su caso se usa el guion bajo como se muestra en el siguiente bloque \n",
    "mi-variable = 5"
   ]
  },
  {
   "cell_type": "code",
   "execution_count": 10,
   "id": "0367b28c",
   "metadata": {},
   "outputs": [],
   "source": [
    "mi_variable = 5"
   ]
  },
  {
   "cell_type": "code",
   "execution_count": 11,
   "id": "12e6f9eb",
   "metadata": {},
   "outputs": [
    {
     "name": "stdout",
     "output_type": "stream",
     "text": [
      "5\n"
     ]
    }
   ],
   "source": [
    "print(mi_variable)"
   ]
  },
  {
   "cell_type": "code",
   "execution_count": 12,
   "id": "780bd671",
   "metadata": {},
   "outputs": [
    {
     "name": "stdout",
     "output_type": "stream",
     "text": [
      "Hola \n",
      " Mundo\n"
     ]
    }
   ],
   "source": [
    "#imprimir hola mundo con salto de linea #(25/08/2022)\n",
    "print(\"Hola \\n Mundo\")\n"
   ]
  },
  {
   "cell_type": "code",
   "execution_count": 13,
   "id": "4208ced0",
   "metadata": {},
   "outputs": [
    {
     "name": "stdout",
     "output_type": "stream",
     "text": [
      "Hola 'Mundo' \n"
     ]
    }
   ],
   "source": [
    "#No es necesario agregar comillad dobles si se usan comillas simples al momento de imprimir el texto \n",
    "print('Hola \\'Mundo\\' ')"
   ]
  },
  {
   "cell_type": "code",
   "execution_count": 14,
   "id": "484e5393",
   "metadata": {},
   "outputs": [
    {
     "name": "stdout",
     "output_type": "stream",
     "text": [
      "*********************\n"
     ]
    }
   ],
   "source": [
    "print(\"*********************\")"
   ]
  },
  {
   "cell_type": "code",
   "execution_count": 17,
   "id": "1657703e",
   "metadata": {},
   "outputs": [
    {
     "name": "stdout",
     "output_type": "stream",
     "text": [
      "**************************************************\n"
     ]
    }
   ],
   "source": [
    "print(\"*\" *  50)"
   ]
  },
  {
   "cell_type": "code",
   "execution_count": 18,
   "id": "0089e7ad",
   "metadata": {},
   "outputs": [
    {
     "name": "stdout",
     "output_type": "stream",
     "text": [
      "Hola MundoHola MundoHola MundoHola MundoHola MundoHola MundoHola MundoHola MundoHola MundoHola MundoHola MundoHola MundoHola MundoHola MundoHola MundoHola MundoHola MundoHola MundoHola MundoHola MundoHola MundoHola MundoHola MundoHola MundoHola MundoHola MundoHola MundoHola MundoHola MundoHola MundoHola MundoHola MundoHola MundoHola MundoHola MundoHola MundoHola MundoHola MundoHola MundoHola MundoHola MundoHola MundoHola MundoHola MundoHola MundoHola MundoHola MundoHola MundoHola MundoHola Mundo\n"
     ]
    }
   ],
   "source": [
    "#Se multiplicara hola mundo 50 veces \n",
    "print(\"Hola Mundo\" * 50)"
   ]
  },
  {
   "cell_type": "markdown",
   "id": "d52e6015",
   "metadata": {},
   "source": [
    "## Operadores en Python"
   ]
  },
  {
   "cell_type": "code",
   "execution_count": 19,
   "id": "09048083",
   "metadata": {},
   "outputs": [
    {
     "name": "stdout",
     "output_type": "stream",
     "text": [
      "150\n"
     ]
    }
   ],
   "source": [
    "print(3*50)"
   ]
  },
  {
   "cell_type": "code",
   "execution_count": 20,
   "id": "f6f6ef08",
   "metadata": {},
   "outputs": [
    {
     "name": "stdout",
     "output_type": "stream",
     "text": [
      "3.3333333333333335\n"
     ]
    }
   ],
   "source": [
    "print(10/3)"
   ]
  },
  {
   "cell_type": "code",
   "execution_count": 21,
   "id": "31e9445d",
   "metadata": {},
   "outputs": [
    {
     "name": "stdout",
     "output_type": "stream",
     "text": [
      "3\n"
     ]
    }
   ],
   "source": [
    "#Regresara un numero entero con el //\n",
    "print( 10 // 3)"
   ]
  },
  {
   "cell_type": "code",
   "execution_count": 22,
   "id": "15ca17e3",
   "metadata": {},
   "outputs": [
    {
     "name": "stdout",
     "output_type": "stream",
     "text": [
      "1\n"
     ]
    }
   ],
   "source": [
    "#El % saca el residuo de la divicion \n",
    "print(9 % 2)"
   ]
  },
  {
   "cell_type": "code",
   "execution_count": 23,
   "id": "d677b49a",
   "metadata": {},
   "outputs": [
    {
     "name": "stdout",
     "output_type": "stream",
     "text": [
      "17\n"
     ]
    }
   ],
   "source": [
    "print(2 + 3 * 5)"
   ]
  },
  {
   "cell_type": "code",
   "execution_count": 24,
   "id": "424ba28b",
   "metadata": {},
   "outputs": [
    {
     "name": "stdout",
     "output_type": "stream",
     "text": [
      "25\n"
     ]
    }
   ],
   "source": [
    "print((2+3) * 5)"
   ]
  },
  {
   "cell_type": "code",
   "execution_count": 25,
   "id": "0a31756d",
   "metadata": {},
   "outputs": [
    {
     "name": "stdout",
     "output_type": "stream",
     "text": [
      "15.708\n"
     ]
    }
   ],
   "source": [
    "X = 5 \n",
    "Y = 3.1416\n",
    "print(X * Y)"
   ]
  },
  {
   "cell_type": "code",
   "execution_count": 29,
   "id": "7472c3a7",
   "metadata": {},
   "outputs": [
    {
     "data": {
      "text/plain": [
       "float"
      ]
     },
     "execution_count": 29,
     "metadata": {},
     "output_type": "execute_result"
    }
   ],
   "source": [
    "#Devuelve el tipo de dato o de variable \n",
    "type(Y)"
   ]
  },
  {
   "cell_type": "markdown",
   "id": "f31845d6",
   "metadata": {},
   "source": [
    "## Convertir tipos de datos "
   ]
  },
  {
   "cell_type": "code",
   "execution_count": 30,
   "id": "d68ffb3f",
   "metadata": {},
   "outputs": [
    {
     "name": "stdout",
     "output_type": "stream",
     "text": [
      "3\n"
     ]
    }
   ],
   "source": [
    "y = int(3.6)\n",
    "print(y)"
   ]
  },
  {
   "cell_type": "code",
   "execution_count": 33,
   "id": "4f799a6a",
   "metadata": {},
   "outputs": [
    {
     "name": "stdout",
     "output_type": "stream",
     "text": [
      "300\n"
     ]
    }
   ],
   "source": [
    "X = \"300\"\n",
    "Z = int(X)\n",
    "print(Z)"
   ]
  },
  {
   "cell_type": "markdown",
   "id": "cf4e4f76",
   "metadata": {},
   "source": [
    "## Entrada de datos "
   ]
  },
  {
   "cell_type": "code",
   "execution_count": 37,
   "id": "28360f11",
   "metadata": {},
   "outputs": [
    {
     "name": "stdout",
     "output_type": "stream",
     "text": [
      "Escribe tu nombre:Brenda\n",
      "Tu nombre es Brenda\n"
     ]
    }
   ],
   "source": [
    "# input: para que pida un valor por medio del teclado \n",
    "variable = input(\"Escribe tu nombre:\")\n",
    "print(\"Tu nombre es\", variable)"
   ]
  },
  {
   "cell_type": "code",
   "execution_count": 39,
   "id": "e7231ed8",
   "metadata": {},
   "outputs": [
    {
     "name": "stdout",
     "output_type": "stream",
     "text": [
      "Proporcioname un numero para multiplicarlo por 5:4\n",
      "20\n"
     ]
    }
   ],
   "source": [
    "# Para que nos pueda hacer la operacion tenemos que declaralo entero para esto se pude usar una linea de codigo extra o \n",
    "# como en este caso se puede poner al inicio y poner la instruccion dentro del int \n",
    "x = int(input(\"Proporcioname un numero para multiplicarlo por 5:\"))\n",
    "print(x * 5)"
   ]
  },
  {
   "cell_type": "code",
   "execution_count": 41,
   "id": "1e41d795",
   "metadata": {},
   "outputs": [
    {
     "name": "stdout",
     "output_type": "stream",
     "text": [
      "Cateto a: 6\n",
      "Cateto b: 20\n",
      "20.8806130178211\n"
     ]
    }
   ],
   "source": [
    "# Calcular la Hipotenusa de un triangulo\n",
    "import math\n",
    "lado1 = float(input(\"Cateto a: \"))\n",
    "lado2 = float(input(\"Cateto b: \"))\n",
    "hipo = (lado1**2 + lado2**2)\n",
    "hipotenusa = math.sqrt(hipo)\n",
    "print(hipotenusa)"
   ]
  },
  {
   "cell_type": "code",
   "execution_count": null,
   "id": "021ada3e",
   "metadata": {},
   "outputs": [],
   "source": []
  },
  {
   "cell_type": "code",
   "execution_count": null,
   "id": "242254e6",
   "metadata": {},
   "outputs": [],
   "source": []
  },
  {
   "cell_type": "code",
   "execution_count": null,
   "id": "1da00a26",
   "metadata": {},
   "outputs": [],
   "source": []
  },
  {
   "cell_type": "code",
   "execution_count": null,
   "id": "d4f5aad5",
   "metadata": {},
   "outputs": [],
   "source": []
  },
  {
   "cell_type": "code",
   "execution_count": null,
   "id": "10b46c69",
   "metadata": {},
   "outputs": [],
   "source": []
  }
 ],
 "metadata": {
  "kernelspec": {
   "display_name": "Python 3 (ipykernel)",
   "language": "python",
   "name": "python3"
  },
  "language_info": {
   "codemirror_mode": {
    "name": "ipython",
    "version": 3
   },
   "file_extension": ".py",
   "mimetype": "text/x-python",
   "name": "python",
   "nbconvert_exporter": "python",
   "pygments_lexer": "ipython3",
   "version": "3.9.12"
  }
 },
 "nbformat": 4,
 "nbformat_minor": 5
}
